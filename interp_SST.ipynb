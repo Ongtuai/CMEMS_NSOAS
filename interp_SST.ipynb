import xarray as xr
import numpy as np
from scipy.interpolate import griddata

# 读取 nc 文件
file_path = "your_nc_file.nc"  # 替换为你的文件路径
variable_name = "SST"  # 替换为实际的 SST 变量名

# 打开文件并提取 SST 数据
ds = xr.open_dataset(file_path)
sst = ds[variable_name].values

# 检查原始数据形状
print(f"Original data shape: {sst.shape}")

# 原始经纬度分辨率
lat = np.linspace(-90, 90, sst.shape[0])
lon = np.linspace(0, 360, sst.shape[1])

# 目标经纬度分辨率
new_lat = np.linspace(-90, 90, 4320)
new_lon = np.linspace(0, 360, 8640)

# 创建原始和目标网格
lon_grid, lat_grid = np.meshgrid(lon, lat)
new_lon_grid, new_lat_grid = np.meshgrid(new_lon, new_lat)

# 将原始数据展平并移除 NaN 值
points = np.array([lon_grid.flatten(), lat_grid.flatten()]).T
values = sst.flatten()
mask = ~np.isnan(values)
points = points[mask]
values = values[mask]

# 插值
new_sst = griddata(points, values, (new_lon_grid, new_lat_grid), method='linear')

# 将插值后的数据保存为 nc 文件
new_ds = xr.Dataset(
    {
        "SST": (["lat", "lon"], new_sst)
    },
    coords={
        "lat": new_lat,
        "lon": new_lon
    }
)
new_ds.to_netcdf("interpolated_sst.nc")
print("Interpolated data saved to 'interpolated_sst.nc'.")
