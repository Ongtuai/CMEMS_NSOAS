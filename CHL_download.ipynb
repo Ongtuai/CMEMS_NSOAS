{
 "cells": [
  {
   "cell_type": "code",
   "execution_count": null,
   "metadata": {},
   "outputs": [],
   "source": [
    "username = 'your_username'\n",
    "password = 'your_password'\n",
    "# 下载单日数据示例\n",
    "import copernicusmarine\n",
    "\n",
    "# copernicusmarine.subset?\n",
    "copernicusmarine.subset(\n",
    "  username=username,\n",
    "  password=password,\n",
    "  dataset_id=\"cmems_obs-oc_glo_bgc-plankton_my_l3-multi-4km_P1D\",\n",
    "  variables=[\"CHL\"],\n",
    "  minimum_longitude=150,\n",
    "  maximum_longitude=285,\n",
    "  minimum_latitude=-45,\n",
    "  maximum_latitude=5,\n",
    "  start_datetime=\"2024-12-10T00:00:00\",\n",
    "  end_datetime=\"2024-12-10T00:00:00\",\n",
    "  output_directory='D:/Data/CMEMS/CHL',\n",
    "  output_filename='20241210_cmems_obs-oc_glo_bgc-plankton_my_l3-multi-4km_P1D',\n",
    ")"
   ]
  },
  {
   "cell_type": "markdown",
   "metadata": {},
   "source": [
    "|Product ID|空间分辨率|时间分辨率|Processing level|观测要素|\n",
    "|---|---|---|---|---|\n",
    "|OCEANCOLOUR_GLO_BGC_L3_MY_009_103|4km x 4km|Daily|Level 3|CHL、KD490、ZSD|\n",
    "|OCEANCOLOUR_GLO_BGC_L3_NRT_009_101|4km x 4km|Daily|Level 3|CHL、KD490、ZSD|"
   ]
  },
  {
   "cell_type": "code",
   "execution_count": null,
   "metadata": {},
   "outputs": [],
   "source": [
    "# -*- encoding: utf-8 -*-\n",
    "# @Date    :   2024/12/24 11:21:01\n",
    "# @Author  :   Hongtai Wang (ongtuai113@gmail.com)\n",
    "\n",
    "\n",
    "\n",
    "# MY data\n",
    "username = 'hwang36'\n",
    "password = 'Wang20010113@'\n",
    "\n",
    "import copernicusmarine\n",
    "from datetime import datetime,timedelta\n",
    "\n",
    "# 定义起始日期和结束日期\n",
    "start_date = datetime(2024, 12, 17)\n",
    "end_date = datetime(2025, 1, 8)\n",
    "\n",
    "# 循环按天处理\n",
    "current_date = start_date\n",
    "while current_date <= end_date:\n",
    "    # 格式化日期为字符串用于文件名等\n",
    "    date_str = current_date.strftime('%Y%m%d')\n",
    "    output_filename = f'{date_str}_cmems_obs-oc_glo_bgc-plankton_my_l3-multi-4km_P1D'\n",
    "    # 调用subset函数下载\n",
    "    copernicusmarine.subset(\n",
    "        username=username,\n",
    "        password=password,\n",
    "        dataset_id=\"cmems_obs-oc_glo_bgc-plankton_my_l3-multi-4km_P1D\",\n",
    "        variables=[\"CHL\"],\n",
    "        minimum_longitude=155,\n",
    "        maximum_longitude=285,\n",
    "        minimum_latitude=-45,\n",
    "        maximum_latitude=5,\n",
    "        start_datetime=current_date.strftime('%Y-%m-%dT00:00:00'),\n",
    "        end_datetime=current_date.strftime('%Y-%m-%dT00:00:00'),\n",
    "        output_directory='D:/Data/CMEMS/MY/L3/CHL',\n",
    "        output_filename=output_filename,\n",
    "        force_download='True',\n",
    "    )\n",
    "    # 将当前日期推进一天\n",
    "    current_date += timedelta(days=1)"
   ]
  },
  {
   "cell_type": "code",
   "execution_count": 2,
   "metadata": {},
   "outputs": [
    {
     "name": "stderr",
     "output_type": "stream",
     "text": [
      "WARNING - 2025-01-21T08:58:46Z - 'force_download' has been deprecated.\n",
      "INFO - 2025-01-21T08:58:54Z - Selected dataset version: \"202411\"\n",
      "INFO - 2025-01-21T08:58:54Z - Selected dataset part: \"default\"\n",
      "INFO - 2025-01-21T08:59:52Z - Starting download. Please wait...\n"
     ]
    },
    {
     "data": {
      "application/vnd.jupyter.widget-view+json": {
       "model_id": "027dca34ef5d4a04a00dee1a6f600349",
       "version_major": 2,
       "version_minor": 0
      },
      "text/plain": [
       "  0%|          | 0/24 [00:00<?, ?it/s]"
      ]
     },
     "metadata": {},
     "output_type": "display_data"
    },
    {
     "name": "stderr",
     "output_type": "stream",
     "text": [
      "INFO - 2025-01-21T09:00:02Z - Successfully downloaded to D:\\Data\\CMEMS\\NRT\\L3\\CHL\\20250115_cmems_obs-oc_glo_bgc-plankton_nrt_l3-multi-4km_P1D.nc\n"
     ]
    }
   ],
   "source": [
    "# NRT data\n",
    "import copernicusmarine\n",
    "from datetime import datetime,timedelta\n",
    "\n",
    "# 定义起始日期和结束日期\n",
    "start_date = datetime(2025, 1, 15)\n",
    "end_date = datetime(2025, 1, 15)\n",
    "\n",
    "# 循环按天处理\n",
    "current_date = start_date\n",
    "while current_date <= end_date:\n",
    "    # 格式化日期为字符串用于文件名等\n",
    "    date_str = current_date.strftime('%Y%m%d')\n",
    "    output_filename = f'{date_str}_cmems_obs-oc_glo_bgc-plankton_nrt_l3-multi-4km_P1D'\n",
    "    # 调用subset函数下载\n",
    "    copernicusmarine.subset(\n",
    "        username=username,\n",
    "        password=password,\n",
    "        dataset_id=\"cmems_obs-oc_glo_bgc-plankton_nrt_l3-multi-4km_P1D\",\n",
    "        variables=[\"CHL\"],\n",
    "        minimum_longitude=155,\n",
    "        maximum_longitude=285,\n",
    "        minimum_latitude=-45,\n",
    "        maximum_latitude=5,\n",
    "        start_datetime=current_date.strftime('%Y-%m-%dT00:00:00'),\n",
    "        end_datetime=current_date.strftime('%Y-%m-%dT00:00:00'),\n",
    "        output_directory='D:/Data/CMEMS/NRT/L3/CHL',\n",
    "        output_filename=output_filename,\n",
    "        force_download='True',\n",
    "    )\n",
    "    # 将当前日期推进一天\n",
    "    current_date += timedelta(days=1)"
   ]
  },
  {
   "cell_type": "code",
   "execution_count": 4,
   "metadata": {},
   "outputs": [
    {
     "name": "stderr",
     "output_type": "stream",
     "text": [
      "INFO - 2025-01-21T09:05:04Z - Selected dataset version: \"202311\"\n",
      "INFO - 2025-01-21T09:05:04Z - Selected dataset part: \"default\"\n",
      "INFO - 2025-01-21T09:06:43Z - Starting download. Please wait...\n"
     ]
    },
    {
     "data": {
      "application/vnd.jupyter.widget-view+json": {
       "model_id": "c3333c3f1c214f4cbf201a8cab9a1e4c",
       "version_major": 2,
       "version_minor": 0
      },
      "text/plain": [
       "  0%|          | 0/24 [00:00<?, ?it/s]"
      ]
     },
     "metadata": {},
     "output_type": "display_data"
    },
    {
     "name": "stderr",
     "output_type": "stream",
     "text": [
      "INFO - 2025-01-21T09:06:55Z - Successfully downloaded to D:\\Data\\CMEMS\\NRT\\L4\\CHL\\20250115_cmems_obs-oc_glo_bgc-plankton_nrt_l4-gapfree-multi-4km_P1D.nc\n"
     ]
    }
   ],
   "source": [
    "# 下载NRT L4级数据\n",
    "# 定义起始日期和结束日期\n",
    "start_date = datetime(2025, 1, 15)\n",
    "end_date = datetime(2025, 1, 15)\n",
    "\n",
    "# 循环按天处理\n",
    "current_date = start_date\n",
    "while current_date <= end_date:\n",
    "    # 格式化日期为字符串用于文件名等\n",
    "    date_str = current_date.strftime('%Y%m%d')\n",
    "    output_filename = f'{date_str}_cmems_obs-oc_glo_bgc-plankton_nrt_l4-gapfree-multi-4km_P1D'\n",
    "    # 调用subset函数下载\n",
    "    copernicusmarine.subset(\n",
    "        username=username,\n",
    "        password=password,\n",
    "        dataset_id=\"cmems_obs-oc_glo_bgc-plankton_nrt_l4-gapfree-multi-4km_P1D\",\n",
    "        variables=[\"CHL\"],\n",
    "        minimum_longitude=155,\n",
    "        maximum_longitude=285,\n",
    "        minimum_latitude=-45,\n",
    "        maximum_latitude=5,\n",
    "        start_datetime=current_date.strftime('%Y-%m-%dT00:00:00'),\n",
    "        end_datetime=current_date.strftime('%Y-%m-%dT00:00:00'),\n",
    "        output_directory='D:/Data/CMEMS/NRT/L4/CHL',\n",
    "        output_filename=output_filename,\n",
    "    )\n",
    "    # 将当前日期推进一天\n",
    "    current_date += timedelta(days=1)"
   ]
  },
  {
   "cell_type": "markdown",
   "metadata": {},
   "source": [
    "|Product ID|空间分辨率|时间分辨率|Processing level|观测要素|\n",
    "|---|---|---|---|---|\n",
    "|OCEANCOLOUR_GLO_BGC_L4_MY_009_104|4km x 4km|Daily & Monthly|Level 4|CHL、KD490、ZSD|\n",
    "|OCEANCOLOUR_GLO_BGC_L4_NRT_009_102|4km x 4km|Daily & Monthly|Level 4|CHL、KD490、ZSD|"
   ]
  },
  {
   "cell_type": "code",
   "execution_count": null,
   "metadata": {},
   "outputs": [],
   "source": [
    "# Download MY L4 CHL data monthly\n",
    "import copernicusmarine\n",
    "from datetime import datetime,timedelta\n",
    "start_date = datetime(2017,1,1)\n",
    "end_date = datetime(2024,4,1)\n",
    "\n",
    "# 循环按天处理\n",
    "current_date = start_date\n",
    "while current_date <= end_date:\n",
    "    # 格式化日期为字符串用于文件名等\n",
    "    date_str = current_date.strftime('%Y%m')\n",
    "    output_filename = f'{date_str}_cmems_obs-oc_glo_bgc-plankton_my_l4-multi-4km_P1M'\n",
    "    # 调用subset函数下载\n",
    "    copernicusmarine.subset(\n",
    "        username=username,\n",
    "        password=password,\n",
    "        dataset_id=\"cmems_obs-oc_glo_bgc-plankton_my_l4-multi-4km_P1M\",\n",
    "        variables=[\"CHL\"],\n",
    "        minimum_longitude=155,\n",
    "        maximum_longitude=285,\n",
    "        minimum_latitude=-45,\n",
    "        maximum_latitude=5,\n",
    "        start_datetime=current_date.strftime('%Y-%m-%dT00:00:00'),\n",
    "        end_datetime=current_date.strftime('%Y-%m-%dT00:00:00'),\n",
    "        output_directory='D:/Data/CMEMS/MY/L4/CHL_P1M',\n",
    "        output_filename=output_filename,\n",
    "        force_download='True',\n",
    "    )\n",
    "    year = current_date.year\n",
    "    month = current_date.month\n",
    "    if month == 12:\n",
    "        year += 1\n",
    "        month = 1\n",
    "    else:\n",
    "        month += 1\n",
    "    # 构造下一个月的第一天的日期\n",
    "    next_month_date = datetime(year, month, 1)\n",
    "    current_date = next_month_date"
   ]
  },
  {
   "cell_type": "code",
   "execution_count": null,
   "metadata": {},
   "outputs": [],
   "source": [
    "# Download MY L4 CHL data Daily\n",
    "import copernicusmarine\n",
    "from datetime import datetime,timedelta\n",
    "\n",
    "# 定义起始日期和结束日期\n",
    "start_date = datetime(2024, 5, 1)\n",
    "end_date = datetime(2025,1, 8)\n",
    "\n",
    "# 循环按天处理\n",
    "current_date = start_date  \n",
    "while current_date <= end_date:\n",
    "    # 格式化日期为字符串用于文件名等\n",
    "    date_str = current_date.strftime('%Y%m%d')\n",
    "    output_filename = f'{date_str}_cmems_obs-oc_glo_bgc-plankton_my_l4-gapfree-multi-4km_P1D'\n",
    "    # 调用subset函数下载\n",
    "    copernicusmarine.subset(\n",
    "        username=username,\n",
    "        password=password,\n",
    "        dataset_id=\"cmems_obs-oc_glo_bgc-plankton_my_l4-gapfree-multi-4km_P1D\",\n",
    "        variables=[\"CHL\"],\n",
    "        minimum_longitude=155,\n",
    "        maximum_longitude=285,\n",
    "        minimum_latitude=-45,\n",
    "        maximum_latitude=5,\n",
    "        start_datetime=current_date.strftime('%Y-%m-%dT00:00:00'),\n",
    "        end_datetime=current_date.strftime('%Y-%m-%dT00:00:00'),\n",
    "        output_directory='D:/Data/CMEMS/MY/L4/CHL_L4',\n",
    "        output_filename=output_filename,\n",
    "        force_download='True',\n",
    "    )\n",
    "    # 将当前日期推进一天\n",
    "    current_date += timedelta(days=1)\n"
   ]
  }
 ],
 "metadata": {
  "kernelspec": {
   "display_name": "Python 3",
   "language": "python",
   "name": "python3"
  },
  "language_info": {
   "codemirror_mode": {
    "name": "ipython",
    "version": 3
   },
   "file_extension": ".py",
   "mimetype": "text/x-python",
   "name": "python",
   "nbconvert_exporter": "python",
   "pygments_lexer": "ipython3",
   "version": "3.12.4"
  }
 },
 "nbformat": 4,
 "nbformat_minor": 2
}
